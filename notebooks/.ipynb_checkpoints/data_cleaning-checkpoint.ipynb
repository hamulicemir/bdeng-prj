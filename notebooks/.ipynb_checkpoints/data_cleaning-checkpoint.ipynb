{
 "cells": [
  {
   "cell_type": "markdown",
   "id": "f6229671-08c8-4ab5-9550-af3f0f68e5b4",
   "metadata": {},
   "source": [
    "# Data Cleaning Exercise\n",
    "\n",
    "Cleaning your data is crucial when starting a new data engineering project because it ensures the accuracy, consistency, and reliability of the dataset. Dirty data, which may include duplicates, missing values, and errors, can lead to incorrect analysis and insights, ultimately affecting the decision-making process. Data cleaning helps in identifying and rectifying these issues, providing a solid foundation for building effective data models and analytics. Additionally, clean data improves the performance of algorithms and enhances the overall efficiency of the project, leading to more trustworthy and actionable results."
   ]
  },
  {
   "cell_type": "markdown",
   "id": "bbc2d260-4fd6-4e01-89bc-fe4747c3e1ea",
   "metadata": {},
   "source": [
    "Use Python, ```numpy```, ```pandas``` and/or ```matplotlib``` to analyse and clean your batch data:"
   ]
  },
  {
   "cell_type": "markdown",
   "id": "416e6c68-a09c-4627-b1aa-603a26d1fff7",
   "metadata": {},
   "source": [
    "## Import Libraries"
   ]
  },
  {
   "cell_type": "code",
   "execution_count": 1,
   "id": "8f0c4277-3351-442e-b87b-f8b678b2f1ab",
   "metadata": {
    "ExecuteTime": {
     "end_time": "2025-05-03T20:05:32.459402Z",
     "start_time": "2025-05-03T20:05:32.430650Z"
    }
   },
   "outputs": [],
   "source": [
    "import pandas as pd\n",
    "import numpy as np\n",
    "import matplotlib.pyplot as plt"
   ]
  },
  {
   "cell_type": "markdown",
   "id": "baf3bbbb-caa4-47b2-bdbd-d38a183868f2",
   "metadata": {},
   "source": [
    "## Load Data\n",
    "\n",
    "Link to data source:\n",
    "Verkehrszählstellen Zählwerte Wien: https://www.data.gv.at/katalog/dataset/4707e82a-154f-48b2-864c-89fffc6334e1#resources"
   ]
  },
  {
   "cell_type": "markdown",
   "id": "fd216cd333683c10",
   "metadata": {},
   "source": [
    "### Attributbeschreibung\n",
    "- JAHR = Zähljahr\n",
    "- MONAT = Zählmonat\n",
    "- ZNR = Zählstellenummer (verknüpfbar mit der ZST_ID des Datensatzes \"Verkehrszählstellen - Standorte\"\n",
    "- ZNAME = Zählstellenname\n",
    "- STRTYP = Straßentyp (B = Hauptstraße B, G = Gemeindestraße)\n",
    "- STRNR = Straßennummer (Bezeichnung des Hauptstraßen B-Netzes)\n",
    "- RINAME = Richtungsname (Fahrziel)\n",
    "- FZTYP = Fahrzeugtyp / -gruppe (Kfz = Alle Kraftfahrzeuge, LkwÄ = Lkw-ähnliche Kraftfahrzeuge)\n",
    "- DTV = Durchschnittlicher täglicher Verkehr (Anzahl der Fahrzeuge laut FZTYP pro 24h\n",
    "- DTVMS = Montag bis Sonntag (alle Tage)\n",
    "- DTVMF = Montag bis Freitag (keine Feiertage)\n",
    "- DTVMO = Montag (keine Feiertage)\n",
    "- DTVDD = Dienstag bis Donnerstag (keine Feiertage)\n",
    "- DTVFR = Freitag (keine Feiertage) DTVSA = Samstag (keine Feiertage)\n",
    "- DTVSF = Sonn- und Feiertage TVMAX = Maximaler Tagesverkehr (alle Tage)\n",
    "- TVMAXT = Wochentag und Datum des TVMAX,\n",
    "-  *= Tag enthält geschätzte Werte\n",
    "- -29 = Negative Werte kennzeichnen nicht verfügbare Werte (z.B. Ausfälle oder Gegenrichtung in Einbahnstraßen)"
   ]
  },
  {
   "cell_type": "code",
   "execution_count": 2,
   "id": "79e789d3-f9e7-43e4-a1e6-6d8ef254d2e9",
   "metadata": {
    "ExecuteTime": {
     "end_time": "2025-05-03T20:05:32.556061Z",
     "start_time": "2025-05-03T20:05:32.470405Z"
    }
   },
   "outputs": [],
   "source": [
    "df_zaehlstellen = pd.read_csv(\"../data/dauerzaehlstellen.csv\", encoding=\"latin1\", sep=\";\")"
   ]
  },
  {
   "cell_type": "markdown",
   "id": "43dc919a-40f5-4254-9d33-3a09ebdb9272",
   "metadata": {},
   "source": [
    "## Understand the Data\n",
    "\n",
    "View the first few rows, get summary statistics and check data types"
   ]
  },
  {
   "cell_type": "code",
   "execution_count": 3,
   "id": "331051c1-ee77-4a8e-81f0-80502341dc80",
   "metadata": {
    "ExecuteTime": {
     "end_time": "2025-05-03T20:05:32.612901Z",
     "start_time": "2025-05-03T20:05:32.599757Z"
    }
   },
   "outputs": [
    {
     "data": {
      "text/html": [
       "<div>\n",
       "<style scoped>\n",
       "    .dataframe tbody tr th:only-of-type {\n",
       "        vertical-align: middle;\n",
       "    }\n",
       "\n",
       "    .dataframe tbody tr th {\n",
       "        vertical-align: top;\n",
       "    }\n",
       "\n",
       "    .dataframe thead th {\n",
       "        text-align: right;\n",
       "    }\n",
       "</style>\n",
       "<table border=\"1\" class=\"dataframe\">\n",
       "  <thead>\n",
       "    <tr style=\"text-align: right;\">\n",
       "      <th></th>\n",
       "      <th>JAHR</th>\n",
       "      <th>MONAT</th>\n",
       "      <th>ZNR</th>\n",
       "      <th>ZNAME</th>\n",
       "      <th>STRTYP</th>\n",
       "      <th>STRNR</th>\n",
       "      <th>RINAME</th>\n",
       "      <th>FZTYP</th>\n",
       "      <th>DTVMS</th>\n",
       "      <th>DTVMF</th>\n",
       "      <th>DTVMO</th>\n",
       "      <th>DTVDD</th>\n",
       "      <th>DTVFR</th>\n",
       "      <th>DTVSA</th>\n",
       "      <th>DTVSF</th>\n",
       "      <th>TVMAX</th>\n",
       "      <th>TVMAXT</th>\n",
       "    </tr>\n",
       "  </thead>\n",
       "  <tbody>\n",
       "    <tr>\n",
       "      <th>0</th>\n",
       "      <td>2024</td>\n",
       "      <td>DEZ.</td>\n",
       "      <td>1075</td>\n",
       "      <td>Reichsbrücke</td>\n",
       "      <td>B</td>\n",
       "      <td>8</td>\n",
       "      <td>Leopoldstadt</td>\n",
       "      <td>Kfz</td>\n",
       "      <td>17629</td>\n",
       "      <td>20578</td>\n",
       "      <td>18756</td>\n",
       "      <td>21370</td>\n",
       "      <td>20676</td>\n",
       "      <td>14684</td>\n",
       "      <td>10886</td>\n",
       "      <td>26516</td>\n",
       "      <td>Do,05.12.</td>\n",
       "    </tr>\n",
       "    <tr>\n",
       "      <th>1</th>\n",
       "      <td>2024</td>\n",
       "      <td>DEZ.</td>\n",
       "      <td>1075</td>\n",
       "      <td>Reichsbrücke</td>\n",
       "      <td>B</td>\n",
       "      <td>8</td>\n",
       "      <td>Leopoldstadt</td>\n",
       "      <td>LkwÄ</td>\n",
       "      <td>552</td>\n",
       "      <td>732</td>\n",
       "      <td>702</td>\n",
       "      <td>768</td>\n",
       "      <td>672</td>\n",
       "      <td>290</td>\n",
       "      <td>186</td>\n",
       "      <td>1076</td>\n",
       "      <td>Do,05.12.</td>\n",
       "    </tr>\n",
       "    <tr>\n",
       "      <th>2</th>\n",
       "      <td>2024</td>\n",
       "      <td>DEZ.</td>\n",
       "      <td>1075</td>\n",
       "      <td>Reichsbrücke</td>\n",
       "      <td>B</td>\n",
       "      <td>8</td>\n",
       "      <td>Donaustadt</td>\n",
       "      <td>Kfz</td>\n",
       "      <td>13422</td>\n",
       "      <td>14907</td>\n",
       "      <td>14163</td>\n",
       "      <td>15230</td>\n",
       "      <td>14950</td>\n",
       "      <td>12429</td>\n",
       "      <td>9747</td>\n",
       "      <td>18146</td>\n",
       "      <td>*Do,19.12.</td>\n",
       "    </tr>\n",
       "    <tr>\n",
       "      <th>3</th>\n",
       "      <td>2024</td>\n",
       "      <td>DEZ.</td>\n",
       "      <td>1075</td>\n",
       "      <td>Reichsbrücke</td>\n",
       "      <td>B</td>\n",
       "      <td>8</td>\n",
       "      <td>Donaustadt</td>\n",
       "      <td>LkwÄ</td>\n",
       "      <td>517</td>\n",
       "      <td>682</td>\n",
       "      <td>641</td>\n",
       "      <td>725</td>\n",
       "      <td>614</td>\n",
       "      <td>304</td>\n",
       "      <td>167</td>\n",
       "      <td>956</td>\n",
       "      <td>*Mi,18.12.</td>\n",
       "    </tr>\n",
       "    <tr>\n",
       "      <th>4</th>\n",
       "      <td>2024</td>\n",
       "      <td>DEZ.</td>\n",
       "      <td>1075</td>\n",
       "      <td>Reichsbrücke</td>\n",
       "      <td>B</td>\n",
       "      <td>8</td>\n",
       "      <td>Gesamt</td>\n",
       "      <td>Kfz</td>\n",
       "      <td>31051</td>\n",
       "      <td>35485</td>\n",
       "      <td>32919</td>\n",
       "      <td>36601</td>\n",
       "      <td>35626</td>\n",
       "      <td>27112</td>\n",
       "      <td>20633</td>\n",
       "      <td>43147</td>\n",
       "      <td>Do,05.12.</td>\n",
       "    </tr>\n",
       "    <tr>\n",
       "      <th>5</th>\n",
       "      <td>2024</td>\n",
       "      <td>DEZ.</td>\n",
       "      <td>1075</td>\n",
       "      <td>Reichsbrücke</td>\n",
       "      <td>B</td>\n",
       "      <td>8</td>\n",
       "      <td>Gesamt</td>\n",
       "      <td>LkwÄ</td>\n",
       "      <td>1069</td>\n",
       "      <td>1414</td>\n",
       "      <td>1343</td>\n",
       "      <td>1493</td>\n",
       "      <td>1287</td>\n",
       "      <td>594</td>\n",
       "      <td>352</td>\n",
       "      <td>1910</td>\n",
       "      <td>Do,05.12.</td>\n",
       "    </tr>\n",
       "    <tr>\n",
       "      <th>6</th>\n",
       "      <td>2024</td>\n",
       "      <td>DEZ.</td>\n",
       "      <td>1078</td>\n",
       "      <td>Westbahnhof</td>\n",
       "      <td>B</td>\n",
       "      <td>221</td>\n",
       "      <td>Wienzeile</td>\n",
       "      <td>Kfz</td>\n",
       "      <td>35980</td>\n",
       "      <td>37028</td>\n",
       "      <td>35325</td>\n",
       "      <td>37125</td>\n",
       "      <td>38889</td>\n",
       "      <td>38104</td>\n",
       "      <td>31775</td>\n",
       "      <td>42418</td>\n",
       "      <td>Fr,13.12.</td>\n",
       "    </tr>\n",
       "    <tr>\n",
       "      <th>7</th>\n",
       "      <td>2024</td>\n",
       "      <td>DEZ.</td>\n",
       "      <td>1078</td>\n",
       "      <td>Westbahnhof</td>\n",
       "      <td>B</td>\n",
       "      <td>221</td>\n",
       "      <td>Wienzeile</td>\n",
       "      <td>LkwÄ</td>\n",
       "      <td>670</td>\n",
       "      <td>873</td>\n",
       "      <td>848</td>\n",
       "      <td>898</td>\n",
       "      <td>834</td>\n",
       "      <td>394</td>\n",
       "      <td>249</td>\n",
       "      <td>1078</td>\n",
       "      <td>Do,12.12.</td>\n",
       "    </tr>\n",
       "    <tr>\n",
       "      <th>8</th>\n",
       "      <td>2024</td>\n",
       "      <td>DEZ.</td>\n",
       "      <td>1078</td>\n",
       "      <td>Westbahnhof</td>\n",
       "      <td>B</td>\n",
       "      <td>221</td>\n",
       "      <td>Stadthalle</td>\n",
       "      <td>Kfz</td>\n",
       "      <td>30570</td>\n",
       "      <td>31326</td>\n",
       "      <td>30159</td>\n",
       "      <td>31218</td>\n",
       "      <td>33084</td>\n",
       "      <td>32057</td>\n",
       "      <td>27561</td>\n",
       "      <td>35074</td>\n",
       "      <td>Fr,13.12.</td>\n",
       "    </tr>\n",
       "    <tr>\n",
       "      <th>9</th>\n",
       "      <td>2024</td>\n",
       "      <td>DEZ.</td>\n",
       "      <td>1078</td>\n",
       "      <td>Westbahnhof</td>\n",
       "      <td>B</td>\n",
       "      <td>221</td>\n",
       "      <td>Stadthalle</td>\n",
       "      <td>LkwÄ</td>\n",
       "      <td>637</td>\n",
       "      <td>805</td>\n",
       "      <td>783</td>\n",
       "      <td>824</td>\n",
       "      <td>779</td>\n",
       "      <td>418</td>\n",
       "      <td>282</td>\n",
       "      <td>976</td>\n",
       "      <td>Di,10.12.</td>\n",
       "    </tr>\n",
       "    <tr>\n",
       "      <th>10</th>\n",
       "      <td>2024</td>\n",
       "      <td>DEZ.</td>\n",
       "      <td>1078</td>\n",
       "      <td>Westbahnhof</td>\n",
       "      <td>B</td>\n",
       "      <td>221</td>\n",
       "      <td>Gesamt</td>\n",
       "      <td>Kfz</td>\n",
       "      <td>66551</td>\n",
       "      <td>68354</td>\n",
       "      <td>65484</td>\n",
       "      <td>68342</td>\n",
       "      <td>71972</td>\n",
       "      <td>70161</td>\n",
       "      <td>59336</td>\n",
       "      <td>77492</td>\n",
       "      <td>Fr,13.12.</td>\n",
       "    </tr>\n",
       "    <tr>\n",
       "      <th>11</th>\n",
       "      <td>2024</td>\n",
       "      <td>DEZ.</td>\n",
       "      <td>1078</td>\n",
       "      <td>Westbahnhof</td>\n",
       "      <td>B</td>\n",
       "      <td>221</td>\n",
       "      <td>Gesamt</td>\n",
       "      <td>LkwÄ</td>\n",
       "      <td>1307</td>\n",
       "      <td>1677</td>\n",
       "      <td>1631</td>\n",
       "      <td>1722</td>\n",
       "      <td>1613</td>\n",
       "      <td>812</td>\n",
       "      <td>530</td>\n",
       "      <td>2024</td>\n",
       "      <td>Do,05.12.</td>\n",
       "    </tr>\n",
       "  </tbody>\n",
       "</table>\n",
       "</div>"
      ],
      "text/plain": [
       "    JAHR MONAT   ZNR         ZNAME STRTYP  STRNR        RINAME FZTYP  DTVMS  \\\n",
       "0   2024  DEZ.  1075  Reichsbrücke      B      8  Leopoldstadt   Kfz  17629   \n",
       "1   2024  DEZ.  1075  Reichsbrücke      B      8  Leopoldstadt  LkwÄ    552   \n",
       "2   2024  DEZ.  1075  Reichsbrücke      B      8    Donaustadt   Kfz  13422   \n",
       "3   2024  DEZ.  1075  Reichsbrücke      B      8    Donaustadt  LkwÄ    517   \n",
       "4   2024  DEZ.  1075  Reichsbrücke      B      8        Gesamt   Kfz  31051   \n",
       "5   2024  DEZ.  1075  Reichsbrücke      B      8        Gesamt  LkwÄ   1069   \n",
       "6   2024  DEZ.  1078   Westbahnhof      B    221     Wienzeile   Kfz  35980   \n",
       "7   2024  DEZ.  1078   Westbahnhof      B    221     Wienzeile  LkwÄ    670   \n",
       "8   2024  DEZ.  1078   Westbahnhof      B    221    Stadthalle   Kfz  30570   \n",
       "9   2024  DEZ.  1078   Westbahnhof      B    221    Stadthalle  LkwÄ    637   \n",
       "10  2024  DEZ.  1078   Westbahnhof      B    221        Gesamt   Kfz  66551   \n",
       "11  2024  DEZ.  1078   Westbahnhof      B    221        Gesamt  LkwÄ   1307   \n",
       "\n",
       "    DTVMF  DTVMO  DTVDD  DTVFR  DTVSA  DTVSF  TVMAX      TVMAXT  \n",
       "0   20578  18756  21370  20676  14684  10886  26516   Do,05.12.  \n",
       "1     732    702    768    672    290    186   1076   Do,05.12.  \n",
       "2   14907  14163  15230  14950  12429   9747  18146  *Do,19.12.  \n",
       "3     682    641    725    614    304    167    956  *Mi,18.12.  \n",
       "4   35485  32919  36601  35626  27112  20633  43147   Do,05.12.  \n",
       "5    1414   1343   1493   1287    594    352   1910   Do,05.12.  \n",
       "6   37028  35325  37125  38889  38104  31775  42418   Fr,13.12.  \n",
       "7     873    848    898    834    394    249   1078   Do,12.12.  \n",
       "8   31326  30159  31218  33084  32057  27561  35074   Fr,13.12.  \n",
       "9     805    783    824    779    418    282    976   Di,10.12.  \n",
       "10  68354  65484  68342  71972  70161  59336  77492   Fr,13.12.  \n",
       "11   1677   1631   1722   1613    812    530   2024   Do,05.12.  "
      ]
     },
     "execution_count": 3,
     "metadata": {},
     "output_type": "execute_result"
    }
   ],
   "source": [
    "df_zaehlstellen.head(12)"
   ]
  },
  {
   "cell_type": "code",
   "execution_count": 4,
   "id": "33e434061292e5e4",
   "metadata": {
    "ExecuteTime": {
     "end_time": "2025-05-03T20:05:32.710839Z",
     "start_time": "2025-05-03T20:05:32.663077Z"
    }
   },
   "outputs": [
    {
     "data": {
      "text/html": [
       "<div>\n",
       "<style scoped>\n",
       "    .dataframe tbody tr th:only-of-type {\n",
       "        vertical-align: middle;\n",
       "    }\n",
       "\n",
       "    .dataframe tbody tr th {\n",
       "        vertical-align: top;\n",
       "    }\n",
       "\n",
       "    .dataframe thead th {\n",
       "        text-align: right;\n",
       "    }\n",
       "</style>\n",
       "<table border=\"1\" class=\"dataframe\">\n",
       "  <thead>\n",
       "    <tr style=\"text-align: right;\">\n",
       "      <th></th>\n",
       "      <th>JAHR</th>\n",
       "      <th>MONAT</th>\n",
       "      <th>ZNR</th>\n",
       "      <th>ZNAME</th>\n",
       "      <th>STRTYP</th>\n",
       "      <th>STRNR</th>\n",
       "      <th>RINAME</th>\n",
       "      <th>FZTYP</th>\n",
       "      <th>DTVMS</th>\n",
       "      <th>DTVMF</th>\n",
       "      <th>DTVMO</th>\n",
       "      <th>DTVDD</th>\n",
       "      <th>DTVFR</th>\n",
       "      <th>DTVSA</th>\n",
       "      <th>DTVSF</th>\n",
       "      <th>TVMAX</th>\n",
       "      <th>TVMAXT</th>\n",
       "    </tr>\n",
       "  </thead>\n",
       "  <tbody>\n",
       "    <tr>\n",
       "      <th>count</th>\n",
       "      <td>44400.000000</td>\n",
       "      <td>44400</td>\n",
       "      <td>44400.000000</td>\n",
       "      <td>44400</td>\n",
       "      <td>44400</td>\n",
       "      <td>44400.000000</td>\n",
       "      <td>44400</td>\n",
       "      <td>44400</td>\n",
       "      <td>44400.000000</td>\n",
       "      <td>44400.000000</td>\n",
       "      <td>44400.000000</td>\n",
       "      <td>44400.000000</td>\n",
       "      <td>44400.000000</td>\n",
       "      <td>44400.000000</td>\n",
       "      <td>44400.000000</td>\n",
       "      <td>44400.000000</td>\n",
       "      <td>44392</td>\n",
       "    </tr>\n",
       "    <tr>\n",
       "      <th>unique</th>\n",
       "      <td>NaN</td>\n",
       "      <td>12</td>\n",
       "      <td>NaN</td>\n",
       "      <td>75</td>\n",
       "      <td>3</td>\n",
       "      <td>NaN</td>\n",
       "      <td>91</td>\n",
       "      <td>2</td>\n",
       "      <td>NaN</td>\n",
       "      <td>NaN</td>\n",
       "      <td>NaN</td>\n",
       "      <td>NaN</td>\n",
       "      <td>NaN</td>\n",
       "      <td>NaN</td>\n",
       "      <td>NaN</td>\n",
       "      <td>NaN</td>\n",
       "      <td>2558</td>\n",
       "    </tr>\n",
       "    <tr>\n",
       "      <th>top</th>\n",
       "      <td>NaN</td>\n",
       "      <td>DEZ.</td>\n",
       "      <td>NaN</td>\n",
       "      <td>Reichsbrücke</td>\n",
       "      <td>B</td>\n",
       "      <td>NaN</td>\n",
       "      <td>Gesamt</td>\n",
       "      <td>Kfz</td>\n",
       "      <td>NaN</td>\n",
       "      <td>NaN</td>\n",
       "      <td>NaN</td>\n",
       "      <td>NaN</td>\n",
       "      <td>NaN</td>\n",
       "      <td>NaN</td>\n",
       "      <td>NaN</td>\n",
       "      <td>NaN</td>\n",
       "      <td>0.00.</td>\n",
       "    </tr>\n",
       "    <tr>\n",
       "      <th>freq</th>\n",
       "      <td>NaN</td>\n",
       "      <td>3708</td>\n",
       "      <td>NaN</td>\n",
       "      <td>648</td>\n",
       "      <td>26514</td>\n",
       "      <td>NaN</td>\n",
       "      <td>14800</td>\n",
       "      <td>22200</td>\n",
       "      <td>NaN</td>\n",
       "      <td>NaN</td>\n",
       "      <td>NaN</td>\n",
       "      <td>NaN</td>\n",
       "      <td>NaN</td>\n",
       "      <td>NaN</td>\n",
       "      <td>NaN</td>\n",
       "      <td>NaN</td>\n",
       "      <td>3982</td>\n",
       "    </tr>\n",
       "    <tr>\n",
       "      <th>mean</th>\n",
       "      <td>2020.109459</td>\n",
       "      <td>NaN</td>\n",
       "      <td>1317.616757</td>\n",
       "      <td>NaN</td>\n",
       "      <td>NaN</td>\n",
       "      <td>64.281757</td>\n",
       "      <td>NaN</td>\n",
       "      <td>NaN</td>\n",
       "      <td>6569.525158</td>\n",
       "      <td>7255.933423</td>\n",
       "      <td>7108.016194</td>\n",
       "      <td>7283.333649</td>\n",
       "      <td>7329.185203</td>\n",
       "      <td>5734.051892</td>\n",
       "      <td>4555.728108</td>\n",
       "      <td>8005.439212</td>\n",
       "      <td>NaN</td>\n",
       "    </tr>\n",
       "    <tr>\n",
       "      <th>std</th>\n",
       "      <td>2.556455</td>\n",
       "      <td>NaN</td>\n",
       "      <td>197.982801</td>\n",
       "      <td>NaN</td>\n",
       "      <td>NaN</td>\n",
       "      <td>98.958905</td>\n",
       "      <td>NaN</td>\n",
       "      <td>NaN</td>\n",
       "      <td>9824.853365</td>\n",
       "      <td>10532.045314</td>\n",
       "      <td>10255.753422</td>\n",
       "      <td>10553.211132</td>\n",
       "      <td>10763.471541</td>\n",
       "      <td>9149.612422</td>\n",
       "      <td>7776.597552</td>\n",
       "      <td>11463.633291</td>\n",
       "      <td>NaN</td>\n",
       "    </tr>\n",
       "    <tr>\n",
       "      <th>min</th>\n",
       "      <td>2016.000000</td>\n",
       "      <td>NaN</td>\n",
       "      <td>1075.000000</td>\n",
       "      <td>NaN</td>\n",
       "      <td>NaN</td>\n",
       "      <td>0.000000</td>\n",
       "      <td>NaN</td>\n",
       "      <td>NaN</td>\n",
       "      <td>-29.000000</td>\n",
       "      <td>-29.000000</td>\n",
       "      <td>-29.000000</td>\n",
       "      <td>-29.000000</td>\n",
       "      <td>-29.000000</td>\n",
       "      <td>-29.000000</td>\n",
       "      <td>-29.000000</td>\n",
       "      <td>-29.000000</td>\n",
       "      <td>NaN</td>\n",
       "    </tr>\n",
       "    <tr>\n",
       "      <th>25%</th>\n",
       "      <td>2018.000000</td>\n",
       "      <td>NaN</td>\n",
       "      <td>1192.000000</td>\n",
       "      <td>NaN</td>\n",
       "      <td>NaN</td>\n",
       "      <td>0.000000</td>\n",
       "      <td>NaN</td>\n",
       "      <td>NaN</td>\n",
       "      <td>374.000000</td>\n",
       "      <td>481.000000</td>\n",
       "      <td>489.000000</td>\n",
       "      <td>494.000000</td>\n",
       "      <td>437.000000</td>\n",
       "      <td>168.000000</td>\n",
       "      <td>102.000000</td>\n",
       "      <td>577.000000</td>\n",
       "      <td>NaN</td>\n",
       "    </tr>\n",
       "    <tr>\n",
       "      <th>50%</th>\n",
       "      <td>2020.000000</td>\n",
       "      <td>NaN</td>\n",
       "      <td>1209.000000</td>\n",
       "      <td>NaN</td>\n",
       "      <td>NaN</td>\n",
       "      <td>3.000000</td>\n",
       "      <td>NaN</td>\n",
       "      <td>NaN</td>\n",
       "      <td>1348.500000</td>\n",
       "      <td>1722.000000</td>\n",
       "      <td>1746.000000</td>\n",
       "      <td>1768.000000</td>\n",
       "      <td>1580.000000</td>\n",
       "      <td>637.000000</td>\n",
       "      <td>439.500000</td>\n",
       "      <td>1967.000000</td>\n",
       "      <td>NaN</td>\n",
       "    </tr>\n",
       "    <tr>\n",
       "      <th>75%</th>\n",
       "      <td>2022.000000</td>\n",
       "      <td>NaN</td>\n",
       "      <td>1608.000000</td>\n",
       "      <td>NaN</td>\n",
       "      <td>NaN</td>\n",
       "      <td>221.000000</td>\n",
       "      <td>NaN</td>\n",
       "      <td>NaN</td>\n",
       "      <td>9581.000000</td>\n",
       "      <td>10647.250000</td>\n",
       "      <td>10457.500000</td>\n",
       "      <td>10659.000000</td>\n",
       "      <td>10807.250000</td>\n",
       "      <td>8513.000000</td>\n",
       "      <td>6402.000000</td>\n",
       "      <td>11728.500000</td>\n",
       "      <td>NaN</td>\n",
       "    </tr>\n",
       "    <tr>\n",
       "      <th>max</th>\n",
       "      <td>2024.000000</td>\n",
       "      <td>NaN</td>\n",
       "      <td>1627.000000</td>\n",
       "      <td>NaN</td>\n",
       "      <td>NaN</td>\n",
       "      <td>230.000000</td>\n",
       "      <td>NaN</td>\n",
       "      <td>NaN</td>\n",
       "      <td>78250.000000</td>\n",
       "      <td>80697.000000</td>\n",
       "      <td>78834.000000</td>\n",
       "      <td>80500.000000</td>\n",
       "      <td>84348.000000</td>\n",
       "      <td>76998.000000</td>\n",
       "      <td>68586.000000</td>\n",
       "      <td>85800.000000</td>\n",
       "      <td>NaN</td>\n",
       "    </tr>\n",
       "  </tbody>\n",
       "</table>\n",
       "</div>"
      ],
      "text/plain": [
       "                JAHR  MONAT           ZNR         ZNAME STRTYP         STRNR  \\\n",
       "count   44400.000000  44400  44400.000000         44400  44400  44400.000000   \n",
       "unique           NaN     12           NaN            75      3           NaN   \n",
       "top              NaN   DEZ.           NaN  Reichsbrücke      B           NaN   \n",
       "freq             NaN   3708           NaN           648  26514           NaN   \n",
       "mean     2020.109459    NaN   1317.616757           NaN    NaN     64.281757   \n",
       "std         2.556455    NaN    197.982801           NaN    NaN     98.958905   \n",
       "min      2016.000000    NaN   1075.000000           NaN    NaN      0.000000   \n",
       "25%      2018.000000    NaN   1192.000000           NaN    NaN      0.000000   \n",
       "50%      2020.000000    NaN   1209.000000           NaN    NaN      3.000000   \n",
       "75%      2022.000000    NaN   1608.000000           NaN    NaN    221.000000   \n",
       "max      2024.000000    NaN   1627.000000           NaN    NaN    230.000000   \n",
       "\n",
       "        RINAME  FZTYP         DTVMS         DTVMF         DTVMO         DTVDD  \\\n",
       "count    44400  44400  44400.000000  44400.000000  44400.000000  44400.000000   \n",
       "unique      91      2           NaN           NaN           NaN           NaN   \n",
       "top     Gesamt    Kfz           NaN           NaN           NaN           NaN   \n",
       "freq     14800  22200           NaN           NaN           NaN           NaN   \n",
       "mean       NaN    NaN   6569.525158   7255.933423   7108.016194   7283.333649   \n",
       "std        NaN    NaN   9824.853365  10532.045314  10255.753422  10553.211132   \n",
       "min        NaN    NaN    -29.000000    -29.000000    -29.000000    -29.000000   \n",
       "25%        NaN    NaN    374.000000    481.000000    489.000000    494.000000   \n",
       "50%        NaN    NaN   1348.500000   1722.000000   1746.000000   1768.000000   \n",
       "75%        NaN    NaN   9581.000000  10647.250000  10457.500000  10659.000000   \n",
       "max        NaN    NaN  78250.000000  80697.000000  78834.000000  80500.000000   \n",
       "\n",
       "               DTVFR         DTVSA         DTVSF         TVMAX TVMAXT  \n",
       "count   44400.000000  44400.000000  44400.000000  44400.000000  44392  \n",
       "unique           NaN           NaN           NaN           NaN   2558  \n",
       "top              NaN           NaN           NaN           NaN  0.00.  \n",
       "freq             NaN           NaN           NaN           NaN   3982  \n",
       "mean     7329.185203   5734.051892   4555.728108   8005.439212    NaN  \n",
       "std     10763.471541   9149.612422   7776.597552  11463.633291    NaN  \n",
       "min       -29.000000    -29.000000    -29.000000    -29.000000    NaN  \n",
       "25%       437.000000    168.000000    102.000000    577.000000    NaN  \n",
       "50%      1580.000000    637.000000    439.500000   1967.000000    NaN  \n",
       "75%     10807.250000   8513.000000   6402.000000  11728.500000    NaN  \n",
       "max     84348.000000  76998.000000  68586.000000  85800.000000    NaN  "
      ]
     },
     "execution_count": 4,
     "metadata": {},
     "output_type": "execute_result"
    }
   ],
   "source": [
    "df_zaehlstellen.describe(include=\"all\")"
   ]
  },
  {
   "cell_type": "code",
   "execution_count": 5,
   "id": "a4b783aa631483cc",
   "metadata": {
    "ExecuteTime": {
     "end_time": "2025-05-03T20:05:32.838078Z",
     "start_time": "2025-05-03T20:05:32.822800Z"
    }
   },
   "outputs": [
    {
     "name": "stdout",
     "output_type": "stream",
     "text": [
      "<class 'pandas.core.frame.DataFrame'>\n",
      "RangeIndex: 44400 entries, 0 to 44399\n",
      "Data columns (total 17 columns):\n",
      " #   Column  Non-Null Count  Dtype \n",
      "---  ------  --------------  ----- \n",
      " 0   JAHR    44400 non-null  int64 \n",
      " 1   MONAT   44400 non-null  object\n",
      " 2   ZNR     44400 non-null  int64 \n",
      " 3   ZNAME   44400 non-null  object\n",
      " 4   STRTYP  44400 non-null  object\n",
      " 5   STRNR   44400 non-null  int64 \n",
      " 6   RINAME  44400 non-null  object\n",
      " 7   FZTYP   44400 non-null  object\n",
      " 8   DTVMS   44400 non-null  int64 \n",
      " 9   DTVMF   44400 non-null  int64 \n",
      " 10  DTVMO   44400 non-null  int64 \n",
      " 11  DTVDD   44400 non-null  int64 \n",
      " 12  DTVFR   44400 non-null  int64 \n",
      " 13  DTVSA   44400 non-null  int64 \n",
      " 14  DTVSF   44400 non-null  int64 \n",
      " 15  TVMAX   44400 non-null  int64 \n",
      " 16  TVMAXT  44392 non-null  object\n",
      "dtypes: int64(11), object(6)\n",
      "memory usage: 5.8+ MB\n"
     ]
    }
   ],
   "source": [
    "df_zaehlstellen.info()"
   ]
  },
  {
   "cell_type": "markdown",
   "id": "2d340e14-7bf2-4caa-aec9-c7d6c441e742",
   "metadata": {},
   "source": [
    "## Handle Missing Data\n",
    "\n",
    "Identify missing values and fill or drop missing values"
   ]
  },
  {
   "cell_type": "code",
   "execution_count": 6,
   "id": "7b594140-0595-423d-8f5c-81faa78de617",
   "metadata": {
    "ExecuteTime": {
     "end_time": "2025-05-03T20:05:33.255342Z",
     "start_time": "2025-05-03T20:05:33.240489Z"
    }
   },
   "outputs": [
    {
     "data": {
      "text/plain": [
       "JAHR      0\n",
       "MONAT     0\n",
       "ZNR       0\n",
       "ZNAME     0\n",
       "STRTYP    0\n",
       "STRNR     0\n",
       "RINAME    0\n",
       "FZTYP     0\n",
       "DTVMS     0\n",
       "DTVMF     0\n",
       "DTVMO     0\n",
       "DTVDD     0\n",
       "DTVFR     0\n",
       "DTVSA     0\n",
       "DTVSF     0\n",
       "TVMAX     0\n",
       "TVMAXT    8\n",
       "dtype: int64"
      ]
     },
     "execution_count": 6,
     "metadata": {},
     "output_type": "execute_result"
    }
   ],
   "source": [
    "df_zaehlstellen.isnull().sum()"
   ]
  },
  {
   "cell_type": "markdown",
   "id": "5a410835faf1cb0c",
   "metadata": {},
   "source": [
    "### Refactoring\n",
    "Da der Wert -29 im Datensatz auf fehlerhafte oder fehlende Messwerte hinweist (z. B. durch Ausfälle oder nicht erfasste Richtungen), werden alle Zeilen mit solchen Werten entfernt. Um sicherzustellen, dass keine unvollständigen Verkehrsdaten in die Analyse einfließen, werden zusätzlich sämtliche Fahrtrichtungen entfernt, die zur gleichen Zählstellennummer (ZNR) gehören wie die betroffenen Zeilen."
   ]
  },
  {
   "cell_type": "code",
   "execution_count": 7,
   "id": "23cb0bd3406018c",
   "metadata": {
    "ExecuteTime": {
     "end_time": "2025-05-03T20:05:33.386630Z",
     "start_time": "2025-05-03T20:05:33.363869Z"
    }
   },
   "outputs": [
    {
     "name": "stdout",
     "output_type": "stream",
     "text": [
      "Anzahl gelöschter ZNRs: 15\n"
     ]
    }
   ],
   "source": [
    "rows_with_minus29 = df_zaehlstellen.eq(-29).any(axis=1)\n",
    "znr_mit_minus29 = df_zaehlstellen.loc[rows_with_minus29, \"ZNR\"].unique()\n",
    "df_zaehlstellen = df_zaehlstellen[~df_zaehlstellen[\"ZNR\"].isin(znr_mit_minus29)]\n",
    "\n",
    "print(\"Anzahl gelöschter ZNRs:\", len(znr_mit_minus29))"
   ]
  },
  {
   "cell_type": "markdown",
   "id": "e0421724fa79739c",
   "metadata": {},
   "source": [
    "Da sich die Analyse ausschließlich auf das Jahr 2024 bezieht, werden alle Einträge aus anderen Jahren aus dem Datensatz entfernt. Dadurch wird sichergestellt, dass nur relevante und vergleichbare Zeiträume in die Auswertungen einfließen."
   ]
  },
  {
   "cell_type": "code",
   "execution_count": 8,
   "id": "b3550870cfedb5ee",
   "metadata": {
    "ExecuteTime": {
     "end_time": "2025-05-03T20:05:33.460250Z",
     "start_time": "2025-05-03T20:05:33.455512Z"
    }
   },
   "outputs": [],
   "source": [
    "df_zaehlstellen = df_zaehlstellen[df_zaehlstellen[\"JAHR\"] == 2024]"
   ]
  },
  {
   "cell_type": "markdown",
   "id": "7523f258-ab6a-463e-8e00-deb2472bd635",
   "metadata": {},
   "source": [
    "## Handle Duplicates\n",
    "\n",
    "Identify duplicates and remove them"
   ]
  },
  {
   "cell_type": "code",
   "execution_count": 9,
   "id": "83438ded-9349-4bbb-b60c-6730a6a1bc4b",
   "metadata": {
    "ExecuteTime": {
     "end_time": "2025-05-03T20:05:33.534997Z",
     "start_time": "2025-05-03T20:05:33.523512Z"
    }
   },
   "outputs": [
    {
     "name": "stdout",
     "output_type": "stream",
     "text": [
      "Anzahl exakter Duplikate: 0\n"
     ]
    }
   ],
   "source": [
    "duplicate_count = df_zaehlstellen.duplicated().sum()\n",
    "print(f\"Anzahl exakter Duplikate: {duplicate_count}\")\n",
    "\n",
    "if duplicate_count > 0:\n",
    "    df_zaehlstellen = df_zaehlstellen.drop.duplicates()"
   ]
  },
  {
   "cell_type": "markdown",
   "id": "af2a1520-5170-4516-aad9-b6ef364ceef5",
   "metadata": {},
   "source": [
    "## Handle Outliers\n",
    "\n",
    "Identify outliers and remove or corret them"
   ]
  },
  {
   "cell_type": "markdown",
   "id": "28a6596fc87bbed8",
   "metadata": {},
   "source": [
    "Zur Identifikation potenzieller Ausreißer im Verkehrsaufkommen wird eine gruppierte Ausreißererkennung basierend auf dem Interquartilsabstand (IQR) durchgeführt.Die Analyse erfolgt gruppiert nach Zählstelle (ZNAME) und Monat, um standort- und saisonspezifische Besonderheiten angemessen zu berücksichtigen.\n",
    "\n",
    "Für jede der folgenden Verkehrskennzahlen:\n",
    "\n",
    "- DTVMS (Montag–Sonntag),\n",
    "- DTVMO (Montag),\n",
    "- DTVDD (Dienstag–Donnerstag),\n",
    "- DTVFR (Freitag),\n",
    "- DTVSA (Samstag),\n",
    "- DTVSF (Sonn- und Feiertage)\n",
    "\n",
    "werden Ausreißer als Werte definiert, die außerhalb des Bereichs von [Q1−1.5×IQR, Q3+1.5×IQR] liegen. Diese Methode ist robust gegenüber Schieflagen in der Verteilung und gut geeignet zur Detektion ungewöhnlich hoher oder niedriger Messwerte innerhalb homogener Gruppen."
   ]
  },
  {
   "cell_type": "code",
   "execution_count": 10,
   "id": "69f6e351-f568-427d-bf33-915064fd0d15",
   "metadata": {
    "ExecuteTime": {
     "end_time": "2025-05-03T20:05:35.515964Z",
     "start_time": "2025-05-03T20:05:33.640445Z"
    }
   },
   "outputs": [
    {
     "name": "stdout",
     "output_type": "stream",
     "text": [
      "DTVMS: 0 gruppierte Ausreißer\n",
      "DTVMO: 0 gruppierte Ausreißer\n",
      "DTVDD: 0 gruppierte Ausreißer\n",
      "DTVFR: 0 gruppierte Ausreißer\n",
      "DTVSA: 0 gruppierte Ausreißer\n",
      "DTVSF: 0 gruppierte Ausreißer\n"
     ]
    }
   ],
   "source": [
    "def detect_outliers_grouped(df, group_cols, target_col):\n",
    "    outlier_indices = []\n",
    "    grouped = df.groupby(group_cols)\n",
    "\n",
    "    for group, group_df in grouped:\n",
    "        Q1 = group_df[target_col].quantile(0.25)\n",
    "        Q3 = group_df[target_col].quantile(0.75)\n",
    "        IQR = Q3 - Q1\n",
    "        lower_bound = Q1 - 1.5 * IQR\n",
    "        upper_bound = Q3 + 1.5 * IQR\n",
    "        mask = (group_df[target_col] < lower_bound) | (group_df[target_col] > upper_bound)\n",
    "        outlier_indices.extend(group_df[mask].index)\n",
    "\n",
    "    return df.loc[outlier_indices]\n",
    "\n",
    "traffic_cols = ['DTVMS', 'DTVMO', 'DTVDD', 'DTVFR', 'DTVSA', 'DTVSF']\n",
    "\n",
    "for col in traffic_cols:\n",
    "    outliers = detect_outliers_grouped(df_zaehlstellen, [\"ZNAME\", \"MONAT\"], col)\n",
    "    print(f\"{col}: {len(outliers)} gruppierte Ausreißer\")"
   ]
  },
  {
   "cell_type": "markdown",
   "id": "ec88a053-b665-4bf8-88fc-59e3ac830d15",
   "metadata": {},
   "source": [
    "## Handle Incorrect Data Types"
   ]
  },
  {
   "cell_type": "code",
   "execution_count": 11,
   "id": "ebe052cc-6543-4d42-a887-26da3fcc353e",
   "metadata": {
    "ExecuteTime": {
     "end_time": "2025-05-03T20:05:35.571929Z",
     "start_time": "2025-05-03T20:05:35.562960Z"
    }
   },
   "outputs": [
    {
     "name": "stdout",
     "output_type": "stream",
     "text": [
      "<class 'pandas.core.frame.DataFrame'>\n",
      "Index: 4176 entries, 0 to 5111\n",
      "Data columns (total 17 columns):\n",
      " #   Column  Non-Null Count  Dtype \n",
      "---  ------  --------------  ----- \n",
      " 0   JAHR    4176 non-null   int64 \n",
      " 1   MONAT   4176 non-null   object\n",
      " 2   ZNR     4176 non-null   int64 \n",
      " 3   ZNAME   4176 non-null   object\n",
      " 4   STRTYP  4176 non-null   object\n",
      " 5   STRNR   4176 non-null   int64 \n",
      " 6   RINAME  4176 non-null   object\n",
      " 7   FZTYP   4176 non-null   object\n",
      " 8   DTVMS   4176 non-null   int64 \n",
      " 9   DTVMF   4176 non-null   int64 \n",
      " 10  DTVMO   4176 non-null   int64 \n",
      " 11  DTVDD   4176 non-null   int64 \n",
      " 12  DTVFR   4176 non-null   int64 \n",
      " 13  DTVSA   4176 non-null   int64 \n",
      " 14  DTVSF   4176 non-null   int64 \n",
      " 15  TVMAX   4176 non-null   int64 \n",
      " 16  TVMAXT  4176 non-null   object\n",
      "dtypes: int64(11), object(6)\n",
      "memory usage: 716.3+ KB\n"
     ]
    }
   ],
   "source": [
    "df_zaehlstellen.info()"
   ]
  },
  {
   "cell_type": "markdown",
   "id": "17f9b68218ec31a4",
   "metadata": {},
   "source": [
    "Zur Vereinheitlichung und weiteren zeitlichen Analyse werden die Monatsangaben in numerischer Form benötigt. Da die Spalte MONAT sowohl numerische als auch textuelle Monatsbezeichnungen enthalten kann (z.B. \"Dez\", \"12.\", \"Oktober\"), wird eine Mapping-Tabelle (monats_map) verwendet, um alle möglichen Varianten in eine konsistente Ganzzahl (1–12) zu überführen.\n",
    "\n",
    "Im Anschluss wird – sofern gültig – ein einheitliches DATUM-Feld mit dem ersten Tag des jeweiligen Monats erzeugt, das für Zeitreihenanalysen und Sortierungen verwendet werden kann."
   ]
  },
  {
   "cell_type": "code",
   "execution_count": 12,
   "id": "701f3ecea6a6ea46",
   "metadata": {
    "ExecuteTime": {
     "end_time": "2025-05-03T20:05:35.593945Z",
     "start_time": "2025-05-03T20:05:35.579753Z"
    }
   },
   "outputs": [
    {
     "ename": "NameError",
     "evalue": "name 'ungültige_monate' is not defined",
     "output_type": "error",
     "traceback": [
      "\u001b[0;31m---------------------------------------------------------------------------\u001b[0m",
      "\u001b[0;31mNameError\u001b[0m                                 Traceback (most recent call last)",
      "Cell \u001b[0;32mIn[12], line 30\u001b[0m\n\u001b[1;32m     23\u001b[0m df_zaehlstellen\u001b[38;5;241m.\u001b[39mloc[valid, \u001b[38;5;124m'\u001b[39m\u001b[38;5;124mDATUM\u001b[39m\u001b[38;5;124m'\u001b[39m] \u001b[38;5;241m=\u001b[39m pd\u001b[38;5;241m.\u001b[39mto_datetime({\n\u001b[1;32m     24\u001b[0m     \u001b[38;5;124m'\u001b[39m\u001b[38;5;124myear\u001b[39m\u001b[38;5;124m'\u001b[39m: df_zaehlstellen\u001b[38;5;241m.\u001b[39mloc[valid, \u001b[38;5;124m'\u001b[39m\u001b[38;5;124mJAHR\u001b[39m\u001b[38;5;124m'\u001b[39m],\n\u001b[1;32m     25\u001b[0m     \u001b[38;5;124m'\u001b[39m\u001b[38;5;124mmonth\u001b[39m\u001b[38;5;124m'\u001b[39m: df_zaehlstellen\u001b[38;5;241m.\u001b[39mloc[valid, \u001b[38;5;124m'\u001b[39m\u001b[38;5;124mMONAT\u001b[39m\u001b[38;5;124m'\u001b[39m]\u001b[38;5;241m.\u001b[39mastype(\u001b[38;5;28mint\u001b[39m),\n\u001b[1;32m     26\u001b[0m     \u001b[38;5;124m'\u001b[39m\u001b[38;5;124mday\u001b[39m\u001b[38;5;124m'\u001b[39m: \u001b[38;5;241m1\u001b[39m\n\u001b[1;32m     27\u001b[0m })\n\u001b[1;32m     29\u001b[0m invalid_months \u001b[38;5;241m=\u001b[39m df_zaehlstellen\u001b[38;5;241m.\u001b[39mloc[\u001b[38;5;241m~\u001b[39mvalid, \u001b[38;5;124m'\u001b[39m\u001b[38;5;124mMONAT\u001b[39m\u001b[38;5;124m'\u001b[39m]\n\u001b[0;32m---> 30\u001b[0m \u001b[38;5;28;01mif\u001b[39;00m \u001b[38;5;129;01mnot\u001b[39;00m \u001b[43mungültige_monate\u001b[49m\u001b[38;5;241m.\u001b[39mempty:\n\u001b[1;32m     31\u001b[0m     \u001b[38;5;28mprint\u001b[39m(\u001b[38;5;124m\"\u001b[39m\u001b[38;5;124mNicht erkannte Monatswerte vorhanden (als NaN):\u001b[39m\u001b[38;5;124m\"\u001b[39m, invalid_months\u001b[38;5;241m.\u001b[39munique())\n",
      "\u001b[0;31mNameError\u001b[0m: name 'ungültige_monate' is not defined"
     ]
    }
   ],
   "source": [
    "monats_map = {\n",
    "    \"JAN\": 1, \"JANUAR\": 1,\n",
    "    \"FEB\": 2, \"FEBRUAR\": 2,\n",
    "    \"MRZ\": 3, \"MÄRZ\": 3,\n",
    "    \"APR\": 4, \"APRIL\": 4,\n",
    "    \"MAI\": 5,\n",
    "    \"JUN\": 6, \"JUNI\": 6,\n",
    "    \"JUL\": 7, \"JULI\": 7,\n",
    "    \"AUG\": 8, \"AUGUST\": 8,\n",
    "    \"SEP\": 9, \"SEPT\": 9, \"SEPTEMBER\": 9,\n",
    "    \"OKT\": 10, \"OKTOBER\": 10,\n",
    "    \"NOV\": 11, \"NOVEMBER\": 11,\n",
    "    \"DEZ\": 12, \"DEZEMBER\": 12\n",
    "}\n",
    "\n",
    "monate_temp = df_zaehlstellen['MONAT'].astype(str).str.upper().str.replace('.', '', regex=False).str.strip()\n",
    "\n",
    "monate_num = monate_temp.map(monats_map)\n",
    "\n",
    "df_zaehlstellen['MONAT'] = monate_num.astype(\"Int64\")\n",
    "\n",
    "valid = df_zaehlstellen['MONAT'].notna()\n",
    "df_zaehlstellen.loc[valid, 'DATUM'] = pd.to_datetime({\n",
    "    'year': df_zaehlstellen.loc[valid, 'JAHR'],\n",
    "    'month': df_zaehlstellen.loc[valid, 'MONAT'].astype(int),\n",
    "    'day': 1\n",
    "})\n",
    "\n",
    "invalid_months = df_zaehlstellen.loc[~valid, 'MONAT']\n",
    "if not invalid_months.empty:\n",
    "    print(\"Nicht erkannte Monatswerte vorhanden (als NaN):\", invalid_months.unique())"
   ]
  },
  {
   "cell_type": "code",
   "execution_count": null,
   "id": "783196334bbc0725",
   "metadata": {
    "ExecuteTime": {
     "end_time": "2025-05-03T20:05:35.627589Z",
     "start_time": "2025-05-03T20:05:35.622475Z"
    }
   },
   "outputs": [],
   "source": [
    "df_zaehlstellen.info()"
   ]
  },
  {
   "cell_type": "markdown",
   "id": "b4b81f4b-086b-47bb-8001-e3bca4dfcf01",
   "metadata": {},
   "source": [
    "## Visualize Data\n",
    "\n",
    "Use graphes, plots and/or diagrams to visualize the data"
   ]
  },
  {
   "cell_type": "code",
   "execution_count": null,
   "id": "3288f622-4d5c-4de6-8302-51a60377e8bb",
   "metadata": {
    "ExecuteTime": {
     "end_time": "2025-05-03T20:05:35.886597Z",
     "start_time": "2025-05-03T20:05:35.631083Z"
    }
   },
   "outputs": [],
   "source": [
    "df_gesamt = df_zaehlstellen[df_zaehlstellen['RINAME'] == 'Gesamt']\n",
    "\n",
    "columns_to_use = ['ZNAME', 'FZTYP', 'DTVMS']\n",
    "df_filtered = df_gesamt[columns_to_use]\n",
    "\n",
    "grouped = df_filtered.groupby(['ZNAME', 'FZTYP']).mean(numeric_only=True).reset_index()\n",
    "\n",
    "pivot_df = grouped.pivot(index='ZNAME', columns='FZTYP', values='DTVMS')\n",
    "\n",
    "pivot_df.plot(kind='bar', figsize=(14, 7))\n",
    "plt.title('Durchschnittlicher täglicher Verkehr (DTVMS) nach Zählstelle und Fahrzeugtyp (Gesamt-Richtung)')\n",
    "plt.xlabel('Zählstelle')\n",
    "plt.ylabel('Fahrzeuge pro Tag')\n",
    "plt.xticks(rotation=45, ha='right')\n",
    "plt.tight_layout()\n",
    "plt.legend(title='Fahrzeugtyp')\n",
    "plt.grid(True)\n",
    "plt.show()"
   ]
  },
  {
   "cell_type": "markdown",
   "id": "85e0e4c1781a4ef7",
   "metadata": {},
   "source": [
    "### Visualisierung des durchschnittlichen täglichen Verkehrs (DTVMS)\n",
    "\n",
    "Um das Verkehrsaufkommen an den verschiedenen Zählstellen besser vergleichen zu können, wird der durchschnittliche tägliche Verkehr (DTVMS) getrennt nach Fahrzeugtyp (Kfz und LkwÄ) für jede Zählstelle in der Richtung \"Gesamt\" visualisiert.\n",
    "\n",
    "Die Datenbasis wurde zuvor so gefiltert, dass:\n",
    "- nur richtungsunabhängige Messwerte (RINAME = \"Gesamt\") berücksichtigt wurden,\n",
    "- und fehlerhafte Einträge (z.B. mit -29) sowie nicht dem Jahr 2024 zuordenbare Werte ausgeschlossen wurden."
   ]
  },
  {
   "cell_type": "code",
   "execution_count": null,
   "id": "7058d9c031ae2f1c",
   "metadata": {
    "ExecuteTime": {
     "end_time": "2025-05-03T20:05:35.995313Z",
     "start_time": "2025-05-03T20:05:35.907216Z"
    }
   },
   "outputs": [],
   "source": [
    "# Monatsdaten aggregieren (über alle Zählstellen und Fahrzeugtypen)\n",
    "monthly_traffic = df_zaehlstellen.groupby(['JAHR', 'MONAT'])['DTVMS'].sum().reset_index()\n",
    "\n",
    "# Kombiniertes Jahr-Monat Label\n",
    "monthly_traffic['JAHR-MONAT'] = monthly_traffic['JAHR'].astype(str) + '-' + monthly_traffic['MONAT'].astype(str).str.zfill(2)\n",
    "\n",
    "# Linienplot\n",
    "plt.figure(figsize=(12, 6))\n",
    "plt.plot(monthly_traffic['JAHR-MONAT'], monthly_traffic['DTVMS'], marker='o')\n",
    "plt.title('Aggregierter Verkehr pro Monat (DTVMS gesamt)')\n",
    "plt.xlabel('Monat')\n",
    "plt.ylabel('Gesamtverkehr (Fahrzeuge/Tag über alle Zählstellen)')\n",
    "plt.xticks(rotation=45, ha='right')\n",
    "plt.grid(True)\n",
    "plt.tight_layout()\n",
    "plt.show()"
   ]
  },
  {
   "cell_type": "markdown",
   "id": "a8b059cfe1f61f3c",
   "metadata": {},
   "source": [
    "### Monatliche Entwicklung des Verkehrsaufkommens im Jahr 2024\n",
    "\n",
    "Zur Untersuchung saisonaler Schwankungen im Verkehrsverhalten wurde der durchschnittliche tägliche Verkehr (DTVMS) über alle Zählstellen und Fahrzeugtypen hinweg pro Monat aggregiert. Dies erlaubt Rückschlüsse auf typische Verkehrsmuster im Jahresverlauf und die Identifikation außergewöhnlicher Monate."
   ]
  },
  {
   "cell_type": "code",
   "execution_count": null,
   "id": "549a87f16e617f99",
   "metadata": {
    "ExecuteTime": {
     "end_time": "2025-05-03T20:05:36.075563Z",
     "start_time": "2025-05-03T20:05:36.014074Z"
    }
   },
   "outputs": [],
   "source": [
    "weekday_cols = ['DTVMO', 'DTVDD', 'DTVFR', 'DTVSA', 'DTVSF']\n",
    "df_gesamt = df_zaehlstellen[df_zaehlstellen['RINAME'] == 'Gesamt']\n",
    "weekday_means = df_gesamt[weekday_cols].mean()\n",
    "\n",
    "weekday_means.plot(kind='bar', figsize=(10, 5))\n",
    "plt.title('Durchschnittlicher Verkehr nach Wochentagen (Gesamt-Richtung)')\n",
    "plt.ylabel('Fahrzeuge pro Tag')\n",
    "plt.xlabel('Wochentag')\n",
    "plt.xticks(rotation=0)\n",
    "plt.grid(axis='y')\n",
    "plt.tight_layout()\n",
    "plt.show()\n"
   ]
  },
  {
   "cell_type": "markdown",
   "id": "98af621335218851",
   "metadata": {},
   "source": [
    "### Durchschnittlicher Verkehr nach Wochentagen (Gesamt-Richtung)\n",
    "\n",
    "Zur Analyse von Verkehrsmustern im Wochenverlauf wurde das durchschnittliche tägliche Verkehrsaufkommen (DTV) für verschiedene Wochentagsgruppen ausgewertet. Berücksichtigt wurden dabei ausschließlich aggregierte Richtungsdaten (RINAME = \"Gesamt\"), um eine konsolidierte Betrachtung unabhängig von der Fahrtrichtung zu gewährleisten.\n",
    "\n",
    "Folgende Kennzahlen wurden einbezogen:\n",
    "- DTVMO: Verkehr an Montagen (werktags, ohne Feiertage)\n",
    "- DTVDD: Verkehr Dienstag bis Donnerstag (werktags, ohne Feiertage)\n",
    "- DTVFR: Verkehr an Freitagen (werktags, ohne Feiertage)\n",
    "- DTVSA: Verkehr an Samstagen (ohne Feiertage)\n",
    "- DTVSF: Verkehr an Sonn- und Feiertagen"
   ]
  },
  {
   "cell_type": "markdown",
   "id": "b1fe4e07-2241-44dc-af0d-c4b08e4ddb2e",
   "metadata": {},
   "source": [
    "## Save Cleaned Data"
   ]
  },
  {
   "cell_type": "code",
   "execution_count": null,
   "id": "a5cdee23-dc0a-4bc0-a3c3-32c0a361af35",
   "metadata": {
    "ExecuteTime": {
     "end_time": "2025-05-03T20:05:36.157689Z",
     "start_time": "2025-05-03T20:05:36.115333Z"
    }
   },
   "outputs": [],
   "source": [
    "df_zaehlstellen.to_csv(\"../output/dauerzaehlstellen.csv\")"
   ]
  }
 ],
 "metadata": {
  "kernelspec": {
   "display_name": "Python 3 (ipykernel)",
   "language": "python",
   "name": "python3"
  },
  "language_info": {
   "codemirror_mode": {
    "name": "ipython",
    "version": 3
   },
   "file_extension": ".py",
   "mimetype": "text/x-python",
   "name": "python",
   "nbconvert_exporter": "python",
   "pygments_lexer": "ipython3",
   "version": "3.9.6"
  }
 },
 "nbformat": 4,
 "nbformat_minor": 5
}
