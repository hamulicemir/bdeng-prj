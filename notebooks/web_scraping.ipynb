{
 "cells": [
  {
   "cell_type": "markdown",
   "id": "5dbb365a-59a0-43e6-a493-dadc874bb72c",
   "metadata": {},
   "source": [
    "# Web Scraping Exercise\n",
    "\n",
    "Web Scraping allows you to gather large volumes of data from diverse and real-time online sources. This data can be crucial for enriching your datasets, filling in gaps, and providing current information that enhances the quality and relevance of your analysis. Web scraping enables you to collect data that might not be readily available through traditional APIs or databases, offering a competitive edge by incorporating unique and comprehensive insights. Moreover, it automates the data collection process, saving time and resources while ensuring a scalable approach to continuously updating and maintaining your datasets.\n",
    "\n",
    "Ethical web scraping involves respecting website terms of service, avoiding overloading servers, and ensuring that the collected data is used responsibly and in compliance with privacy laws and regulations."
   ]
  },
  {
   "cell_type": "markdown",
   "id": "588254e6-2157-47bd-b21e-9c55888b654d",
   "metadata": {},
   "source": [
    "Use Python, ```requests```, ```BeautifulSoup``` and/or ```pandas``` to scrape web data:"
   ]
  },
  {
   "cell_type": "markdown",
   "id": "c1ef6a9f-888c-4b46-839f-e6c2055a3b44",
   "metadata": {},
   "source": [
    "## Import Libraries"
   ]
  },
  {
   "cell_type": "code",
   "id": "afe18cce-f661-44e3-966a-f6253025b02a",
   "metadata": {
    "ExecuteTime": {
     "end_time": "2025-05-12T17:11:31.576469Z",
     "start_time": "2025-05-12T17:11:31.144889Z"
    }
   },
   "source": [
    "import requests\n",
    "from bs4 import BeautifulSoup\n",
    "import json\n",
    "import time\n",
    "import csv\n",
    "import pandas as pd"
   ],
   "outputs": [],
   "execution_count": 1
  },
  {
   "cell_type": "markdown",
   "id": "6df7c955-ae58-4fb4-9e77-fa945b5a2d0e",
   "metadata": {},
   "source": [
    "## Define the Target URL"
   ]
  },
  {
   "cell_type": "code",
   "id": "c6227173-b844-4330-ab17-fc4ed20c546c",
   "metadata": {
    "ExecuteTime": {
     "end_time": "2025-05-12T17:11:33.072846Z",
     "start_time": "2025-05-12T17:11:33.067346Z"
    }
   },
   "source": [
    "BASE_URL = \"https://www.preisjaeger.at/?page=\"\n",
    "HEADERS = {\n",
    "    \"User-Agent\": \"Mozilla/5.0\"\n",
    "}\n",
    "deals = []\n",
    "seen_ids = set()\n",
    "page = 1\n",
    "MAX_DEALS = 1000 # Maximale Deals festgelegt, um nicht ewig zu scrapen"
   ],
   "outputs": [],
   "execution_count": 2
  },
  {
   "cell_type": "markdown",
   "id": "e0aa53df-3c02-43b4-8810-aaac3a0685ab",
   "metadata": {},
   "source": [
    "## Send a Request to the Website\n",
    "\n",
    "Do not forget to check the response status code"
   ]
  },
  {
   "cell_type": "code",
   "id": "cd7ee575-a612-410c-8d4b-0d201e220eb9",
   "metadata": {
    "ExecuteTime": {
     "end_time": "2025-05-12T17:11:35.154047Z",
     "start_time": "2025-05-12T17:11:34.713151Z"
    }
   },
   "source": [
    "response = requests.get(BASE_URL + str(page), headers=HEADERS)\n",
    "if response.status_code != 200:\n",
    "    print(f\"Fehler beim Abrufen von Seite {page} – Statuscode: {response.status_code}\")"
   ],
   "outputs": [],
   "execution_count": 3
  },
  {
   "cell_type": "markdown",
   "id": "7fc3ab17-c3a3-4886-a600-54ff193ea1f8",
   "metadata": {},
   "source": [
    "## Parse the HTML Content\n",
    "\n",
    "Use a library to access the HTMl content"
   ]
  },
  {
   "cell_type": "code",
   "id": "fb23d1a5-ef0e-4512-b31e-a37a83a2effe",
   "metadata": {
    "ExecuteTime": {
     "end_time": "2025-05-12T17:11:36.749044Z",
     "start_time": "2025-05-12T17:11:36.716520Z"
    }
   },
   "source": [
    "soup = BeautifulSoup(response.text, 'html.parser')\n",
    "article = soup.find(\"article\", class_=\"thread\")\n",
    "print(article)"
   ],
   "outputs": [
    {
     "name": "stdout",
     "output_type": "stream",
     "text": [
      "<article class=\"thread cept-thread-item thread--newCard thread--shadow thread--type-list imgFrame-container--scale thread--deal\" data-handler=\"history thread-click\" data-history='{\"endpoint\":\"https://www.preisjaeger.at\",\"replace\":true,\"data\":{\"scrollTo\":\"#thread_346813\",\"offset\":70,\"scrollContainer\":\"#main\"},\"events\":[\"history\",\"click\"],\"delegate\":true}' data-ocular='{\"thread_ids\":346813}' data-t=\"thread\" data-t-d='{\"id\":346813}' data-t-view=\"\" data-t-view-twig=\"\" id=\"thread_346813\"><div aria-busy=\"true\" class=\"js-vue2\" data-handler=\"vue2\" data-vue2='{\"name\":\"ThreadMainListItemNormalizer\",\"props\":{\"thread\":{\"threadId\":\"346813\",\"titleSlug\":\"braun-series-9-pro-scherkopf-30-bei-bipa-und-10eur-cashback-lokal\",\"title\":\"Braun Series 9 (Pro) Scherkopf: -30 % bei Bipa und 10\\u20ac Cashback (Lokal)\",\"currentUserVoteDirection\":null,\"commentCount\":0,\"status\":\"Activated\",\"isExpired\":false,\"isNew\":false,\"isPinned\":false,\"isTrending\":null,\"bookmarked\":false,\"isLocal\":true,\"temperature\":109.02,\"temperatureLevel\":\"Hot2\",\"type\":\"Deal\",\"nsfw\":false,\"deletedAt\":null,\"isAffiliateTrackingDisabled\":false,\"isAffiliateDescriptionDisabled\":false,\"isEditLocked\":false,\"isExpireLocked\":false,\"contentLockedBy\":null,\"isSpamLocked\":false,\"isLocked\":false,\"isNewsletterPicked\":null,\"isCommentsModerationOn\":null,\"isPushed\":null,\"isCommunityFavorite\":false,\"isCategoryCommunityFavorite\":false,\"isTopDeal\":false,\"isCategoryTopDeal\":false,\"pinId\":null,\"bumpedAt\":0,\"bumpedAndReset\":false,\"publishedAt\":1746802087,\"voucherCode\":\"\",\"link\":\"https://www.for-me-online.de/braun-cashback\",\"shareableLink\":\"https://www.preisjaeger.at/share-deal/346813\",\"merchant\":{\"merchantId\":52,\"merchantName\":\"BIPA\",\"merchantUrlName\":\"bipa.at\",\"isMerchantPageEnabled\":true,\"avatar\":{\"path\":\"merchants/raw/avatar\",\"name\":\"52_2\",\"slotId\":\"avatar\",\"width\":0,\"height\":0,\"version\":2,\"unattached\":false,\"uid\":\"52_2.raw\",\"ext\":\"raw\"}},\"mainGroup\":{\"threadGroupId\":240,\"threadGroupName\":\"Beauty &amp; Gesundheit\",\"threadGroupUrlName\":\"beauty-gesundheit\"},\"mainImage\":{\"path\":\"threads/raw/dIlQ5\",\"name\":\"346813_1\",\"slotId\":\"dIlQ5\",\"width\":1000,\"height\":1000,\"version\":1,\"unattached\":false,\"uid\":\"346813_1.png\",\"ext\":\"png\"},\"price\":31.99,\"nextBestPrice\":41.99,\"percentage\":0,\"discountType\":null,\"shipping\":{\"isFree\":null,\"price\":0},\"user\":{\"userId\":54752,\"username\":\"Pablo.C\",\"title\":\"\",\"avatar\":{\"path\":\"users/raw/default\",\"name\":\"54752_5\",\"slotId\":\"default\",\"width\":0,\"height\":0,\"version\":5,\"unattached\":false,\"uid\":\"54752_5.raw\",\"ext\":\"raw\"},\"persona\":{\"text\":null,\"type\":null},\"isBanned\":false,\"isDeletedOrPendingDeletion\":false,\"isUserProfileHidden\":false},\"startDate\":{\"timestamp\":1746741660},\"selectedLocations\":{\"isNational\":true},\"endDate\":{\"timestamp\":1747346340},\"isExclusive\":false,\"isVoucherCodeHidden\":false,\"claimCodeCampaignId\":null,\"claimCodeCampaign\":null,\"canVote\":false,\"scheduledReleaseDate\":{\"timestamp\":null},\"isHot\":true,\"pickedAt\":0,\"hotDate\":1747068683,\"isExcludedFromAds\":false}}}'></div><div class=\"threadListCard thread-clickRoot\"><div class=\"threadListCard-image\"><div aria-busy=\"true\" class=\"js-vue2\" data-handler=\"vue2\" data-vue2='{\"name\":\"ThreadListItemImageNew\",\"props\":{\"threadId\":\"346813\",\"lazyLoadImages\":true}}'><div class=\"skeleton imgFrame imgFrame--noBorder skeleton-bg\"></div></div></div><div class=\"threadListCard-label\"></div><div class=\"threadListCard-header\"><div aria-busy=\"true\" class=\"js-vue2 threadListCard-header-action\" data-handler=\"vue2\" data-vue2='{\"name\":\"VoteControlThreadListing\",\"attrs\":{\"threadId\":\"346813\"},\"class\":\"threadListCard-header-action\"}'><div class=\"bRad--a space--h-1 bRad--circle skeleton skeleton-bg flex\" style=\"width: 108px; height: 36px;\"></div></div><div aria-busy=\"true\" class=\"js-vue2\" data-handler=\"vue2\" data-vue2='{\"name\":\"ThreadListItemTimestamp\",\"props\":{\"threadId\":\"346813\",\"isHotListing\":true,\"isPickedListing\":false}}'><div class=\"bRad--a skeleton skeleton-bg\" style=\"width: 60px; height: 30px;\"></div></div></div><div class=\"threadListCard-body\"><strong class=\"thread-title\"><a class=\"cept-tt thread-link linkPlain thread-title--list js-thread-title\" data-t=\"threadLink\" data-t-click=\"\" href=\"https://www.preisjaeger.at/deals/braun-series-9-pro-scherkopf-30-bei-bipa-und-10eur-cashback-lokal-346813\" title=\"Braun Series 9 (Pro) Scherkopf: -30 % bei Bipa und 10€ Cashback (Lokal)\">Braun Series 9 (Pro) Scherkopf: -30 % bei Bipa und 10€ Cashback (Lokal)</a></strong><div aria-busy=\"true\" class=\"js-vue2\" data-handler=\"vue2\" data-vue2='{\"name\":\"ThreadListItemInfo\",\"props\":{\"threadId\":\"346813\",\"layout\":\"LIST\"}}'><div class=\"skeleton flex width--all-12\"><div class=\"hide--toW3 flex boxAlign-ai--all-c gap--h-12p\"><div class=\"bRad--a skeleton skeleton-bg\" style=\"width: 269px; height: 32px;\"></div><span class=\"thread-divider space--mh-0\"></span><div class=\"bRad--a skeleton skeleton-bg\" style=\"width: 279px; height: 32px;\"></div></div><div class=\"hide--fromW3 flex flex--dir-col\"><div class=\"bRad--a skeleton skeleton-bg space--mb-2 width--max-12\" style=\"width: 480px; height: 39px;\"></div><span class=\"bRad--a-sm skeleton skeleton-bg width--max-6\" style=\"height: 16px;\"></span><div class=\"border--b border--trans\"></div><span class=\"bRad--a-sm skeleton skeleton-bg width--max-6\" style=\"height: 16px;\"></span></div></div></div><div class=\"userHtml userHtml-content\"><div class=\"overflow--wrap-break width--all-12 size--all-s space--t-2 color--text-TranslucentSecondary hide--toW3\" data-handler=\"lightbox-xhr emoticon-preview\" data-lightbox-xhr='{\"name\":\"threads\"}'>\n",
      "\t\tBei Bipa gibt es derzeit -30% Rabatt auf alle Braun Produkte. Zusätzlich erhält man noch beim  Kauf bis 15.5.2025  10€ Cashback über P&amp;G  Macht somit einen Endpreis von 31,99€  Produkt i…</div></div></div><div class=\"threadListCard-footer\"><div aria-busy=\"true\" class=\"js-vue2\" data-handler=\"vue2\" data-vue2='{\"name\":\"CommentsButtonThreadListing\",\"props\":{\"threadId\":\"346813\",\"isNew\":true,\"concealLink\":false,\"unlink\":null}}'><div class=\"bRad--a skeleton skeleton-bg\" style=\"width: 80px; height: 30px;\"></div></div><div aria-busy=\"true\" class=\"js-vue2\" data-handler=\"vue2\" data-vue2='{\"name\":\"ThreadListingShareButton\",\"props\":{\"threadId\":\"346813\"}}'></div><div aria-busy=\"true\" class=\"js-vue2\" data-handler=\"vue2\" data-vue2='{\"name\":\"ThreadListingBookmark\",\"props\":{\"threadId\":\"346813\"}}'></div><div aria-busy=\"true\" class=\"js-vue2 threadListCard-footer-action\" data-handler=\"vue2\" data-vue2='{\"name\":\"ThreadListItemMainButton\",\"props\":{\"layout\":\"LIST\",\"threadId\":\"346813\",\"link\":\"https://www.preisjaeger.at/visit/homehot/346813\",\"concealThreadLinks\":false},\"class\":\"threadListCard-footer-action\"}'><div class=\"bRad--a skeleton skeleton-bg\" style=\"width: 104px; height: 34px;\"></div></div></div></div></article>\n"
     ]
    }
   ],
   "execution_count": 4
  },
  {
   "metadata": {
    "ExecuteTime": {
     "end_time": "2025-05-12T17:11:39.641715Z",
     "start_time": "2025-05-12T17:11:39.636080Z"
    }
   },
   "cell_type": "code",
   "source": [
    "vue_data = article.find(\"div\", attrs={\"data-vue2\": True})\n",
    "vue_json = json.loads(vue_data[\"data-vue2\"])\n",
    "thread = vue_json.get(\"props\", {}).get(\"thread\", {})\n",
    "\n",
    "print(thread.get(\"title\"))\n",
    "print(thread.get(\"price\"))\n",
    "print(thread.get(\"nextBestPrice\"))\n",
    "print(thread.get(\"temperature\"))"
   ],
   "id": "6ffaff1da1142d4b",
   "outputs": [
    {
     "name": "stdout",
     "output_type": "stream",
     "text": [
      "Braun Series 9 (Pro) Scherkopf: -30 % bei Bipa und 10€ Cashback (Lokal)\n",
      "31.99\n",
      "41.99\n",
      "109.02\n"
     ]
    }
   ],
   "execution_count": 5
  },
  {
   "metadata": {},
   "cell_type": "markdown",
   "source": "The prices are sometimes zero because they are labeled as \"KOSTENLOS\" on the website.",
   "id": "820c506b67c892a4"
  },
  {
   "cell_type": "markdown",
   "id": "c7cbb259-602c-4644-a9ac-41d8a7fe0eb3",
   "metadata": {},
   "source": [
    "## Identify the Data to be Scraped\n",
    "\n",
    "Write a couple of sentence on the data you want to scrape"
   ]
  },
  {
   "cell_type": "markdown",
   "id": "0dde90e0-854f-4053-8362-c885e2c5e457",
   "metadata": {},
   "source": "I want to scrape product deals from preisjaeger.at, including the title of the deal, the discounted price, the original (comparison) price, and the popularity score (referred to as \"Grad\"). The goal is to collect approximately 1000 unique deals across multiple paginated pages for further analysis or storage."
  },
  {
   "cell_type": "markdown",
   "id": "19eb64f4-3159-4782-9425-efbec82b7592",
   "metadata": {},
   "source": [
    "## Extract Data\n",
    "\n",
    "Find specific elements and extract text or attributes from elements (handle pagination if necessary)"
   ]
  },
  {
   "cell_type": "code",
   "id": "67076819-665f-43c6-9811-1218696a1b88",
   "metadata": {
    "ExecuteTime": {
     "end_time": "2025-05-12T17:12:23.265819Z",
     "start_time": "2025-05-12T17:11:43.811578Z"
    }
   },
   "source": [
    "while len(deals) < MAX_DEALS:\n",
    "    print(f\"Scraping Seite {page}...\")\n",
    "    response = requests.get(BASE_URL + str(page), headers=HEADERS)\n",
    "    if response.status_code != 200:\n",
    "        print(f\"Fehler beim Abrufen von Seite {page} – Statuscode: {response.status_code}\")\n",
    "        break\n",
    "\n",
    "    soup = BeautifulSoup(response.text, 'html.parser')\n",
    "\n",
    "    articles = soup.find_all(\"article\", class_=\"thread\")\n",
    "    if not articles:\n",
    "        print(\"Keine weiteren Artikel gefunden – Abbruch.\")\n",
    "        break\n",
    "\n",
    "    new_deals_found = False\n",
    "\n",
    "    for article in articles:\n",
    "        try:\n",
    "            vue_data = article.find(\"div\", attrs={\"data-vue2\": True})\n",
    "            if not vue_data:\n",
    "                continue\n",
    "\n",
    "            vue_json = json.loads(vue_data[\"data-vue2\"])\n",
    "            thread = vue_json.get(\"props\", {}).get(\"thread\", {})\n",
    "            thread_id = thread.get(\"threadId\")\n",
    "            if thread_id in seen_ids:\n",
    "                continue  # schon gesehen\n",
    "            seen_ids.add(thread_id) # nicht gesehen -> set aktualisieren\n",
    "\n",
    "            title = thread.get(\"title\")\n",
    "            price = thread.get(\"price\")\n",
    "            next_best_price = thread.get(\"nextBestPrice\")\n",
    "            temperature = round(thread.get(\"temperature\", 0))\n",
    "\n",
    "            deals.append({\n",
    "                \"Titel\": title,\n",
    "                \"Preis (€)\": price,\n",
    "                \"Vergleichspreis (€)\": next_best_price,\n",
    "                \"Grad\": f\"{temperature}\"\n",
    "            })\n",
    "\n",
    "            new_deals_found = True\n",
    "\n",
    "            if len(deals) >= MAX_DEALS:\n",
    "                break\n",
    "        except Exception as e:\n",
    "            print(f\"Fehler beim Parsen eines Eintrags: {e}\")\n",
    "\n",
    "    if not new_deals_found:\n",
    "        print(\"Keine neuen Deals auf dieser Seite – Abbruch.\")\n",
    "        break\n",
    "\n",
    "    page += 1\n",
    "    time.sleep(0.5)  # Refresh-Rate (IP)"
   ],
   "outputs": [
    {
     "name": "stdout",
     "output_type": "stream",
     "text": [
      "Scraping Seite 1...\n",
      "Scraping Seite 2...\n",
      "Scraping Seite 3...\n",
      "Scraping Seite 4...\n",
      "Scraping Seite 5...\n",
      "Scraping Seite 6...\n",
      "Scraping Seite 7...\n",
      "Scraping Seite 8...\n",
      "Scraping Seite 9...\n",
      "Scraping Seite 10...\n",
      "Scraping Seite 11...\n",
      "Scraping Seite 12...\n",
      "Scraping Seite 13...\n",
      "Scraping Seite 14...\n",
      "Scraping Seite 15...\n",
      "Scraping Seite 16...\n",
      "Scraping Seite 17...\n",
      "Scraping Seite 18...\n",
      "Scraping Seite 19...\n",
      "Scraping Seite 20...\n",
      "Scraping Seite 21...\n",
      "Scraping Seite 22...\n",
      "Scraping Seite 23...\n",
      "Scraping Seite 24...\n",
      "Scraping Seite 25...\n",
      "Scraping Seite 26...\n",
      "Scraping Seite 27...\n",
      "Scraping Seite 28...\n",
      "Scraping Seite 29...\n",
      "Scraping Seite 30...\n",
      "Scraping Seite 31...\n",
      "Scraping Seite 32...\n",
      "Scraping Seite 33...\n",
      "Scraping Seite 34...\n"
     ]
    }
   ],
   "execution_count": 6
  },
  {
   "cell_type": "markdown",
   "id": "15439eda-7402-41f6-9322-2ddecf24bf91",
   "metadata": {},
   "source": [
    "## Store Data in a Structured Format\n",
    "\n",
    "Give a brief overview of the data collected (e.g. count, fields, ...)"
   ]
  },
  {
   "cell_type": "code",
   "id": "48684760-3804-4ba0-a989-bbbf89383886",
   "metadata": {
    "ExecuteTime": {
     "end_time": "2025-05-12T17:12:26.929476Z",
     "start_time": "2025-05-12T17:12:26.918654Z"
    }
   },
   "source": [
    "print(f\"Anzahl der gesammelten Deals: {len(deals)}\")\n",
    "if deals:\n",
    "    print(\"Felder pro Deal:\", \", \".join(deals[0].keys()))\n",
    "# Head of 5\n",
    "print()\n",
    "for deal in deals[:5]:\n",
    "    print(deal)"
   ],
   "outputs": [
    {
     "name": "stdout",
     "output_type": "stream",
     "text": [
      "Anzahl der gesammelten Deals: 1000\n",
      "Felder pro Deal: Titel, Preis (€), Vergleichspreis (€), Grad\n",
      "\n",
      "{'Titel': 'Braun Series 9 (Pro) Scherkopf: -30 % bei Bipa und 10€ Cashback (Lokal)', 'Preis (€)': 31.99, 'Vergleichspreis (€)': 41.99, 'Grad': '109'}\n",
      "{'Titel': '1200 Yums bei TheFork', 'Preis (€)': 0, 'Vergleichspreis (€)': 0, 'Grad': '127'}\n",
      "{'Titel': 'Samsung S36GD Essential Curved Monitor 24 Zoll, Full HD, 4 ms Reaktionszeit, 100 Hz, Eco Saving Plus, Flicker Free, Schwarz, S24D364GAU', 'Preis (€)': 69.58, 'Vergleichspreis (€)': 89.43, 'Grad': '119'}\n",
      "{'Titel': '-25% auf die Crisp n Cream von NEOH', 'Preis (€)': 0, 'Vergleichspreis (€)': 0, 'Grad': '114'}\n",
      "{'Titel': 'DE LONGHI Pinguino PAC EX105 Klimagerät (Max. Raumgröße: 100 m³, EEK: A+++, 10000 BTU/h, Weiß)', 'Preis (€)': 699, 'Vergleichspreis (€)': 883, 'Grad': '150'}\n"
     ]
    }
   ],
   "execution_count": 7
  },
  {
   "metadata": {},
   "cell_type": "markdown",
   "source": [
    "In summary, we scraped 1000 Deals (which can be adjusted with the variables before) and had the most important fields:\n",
    "- Title (the title of the deal)\n",
    "- Price (the current price)\n",
    "- Comparision Price (the prior price)\n",
    "- Heat (describing the popularity of the deal)"
   ],
   "id": "5f8cc220514ffc42"
  },
  {
   "cell_type": "markdown",
   "id": "6517c66d-3f57-4da9-b3cd-db55c85585b3",
   "metadata": {},
   "source": [
    "## Save the Data"
   ]
  },
  {
   "cell_type": "code",
   "id": "03309800-94f3-4529-bb22-3a44a0fb5242",
   "metadata": {
    "ExecuteTime": {
     "end_time": "2025-05-12T17:12:29.864486Z",
     "start_time": "2025-05-12T17:12:29.840866Z"
    }
   },
   "source": [
    "with open(\"preisjaeger_deals.csv\", mode=\"w\", newline=\"\", encoding=\"utf-8\") as f:\n",
    "    writer = csv.DictWriter(f, fieldnames=[\"Titel\", \"Preis (€)\", \"Vergleichspreis (€)\", \"Grad\"])\n",
    "    writer.writeheader()\n",
    "    writer.writerows(deals)\n",
    "\n",
    "print(\"CSV-Datei 'preisjaeger_deals.csv' wurde erfolgreich erstellt.\")"
   ],
   "outputs": [
    {
     "name": "stdout",
     "output_type": "stream",
     "text": [
      "CSV-Datei 'preisjaeger_deals.csv' wurde erfolgreich erstellt.\n"
     ]
    }
   ],
   "execution_count": 8
  },
  {
   "metadata": {},
   "cell_type": "markdown",
   "source": "The data has been exported to a structured CSV file, which can be further utilized.",
   "id": "720b3b8350fd47a7"
  },
  {
   "metadata": {
    "ExecuteTime": {
     "end_time": "2025-05-12T17:12:32.508583Z",
     "start_time": "2025-05-12T17:12:32.441944Z"
    }
   },
   "cell_type": "code",
   "source": [
    "df = pd.read_csv(\"preisjaeger_deals.csv\", encoding=\"utf-8\")\n",
    "df.describe()"
   ],
   "id": "6177beda94bc0c8a",
   "outputs": [
    {
     "data": {
      "text/plain": [
       "         Preis (€)  Vergleichspreis (€)         Grad\n",
       "count  1000.000000           1000.00000  1000.000000\n",
       "mean    114.028660            141.33316   284.245000\n",
       "std     263.350352            327.30766   233.992828\n",
       "min       0.000000              0.00000   101.000000\n",
       "25%       0.000000              0.00000   163.750000\n",
       "50%      18.050000             26.98500   218.500000\n",
       "75%      84.220000            109.21000   317.000000\n",
       "max    2365.430000           3199.00000  2745.000000"
      ],
      "text/html": [
       "<div>\n",
       "<style scoped>\n",
       "    .dataframe tbody tr th:only-of-type {\n",
       "        vertical-align: middle;\n",
       "    }\n",
       "\n",
       "    .dataframe tbody tr th {\n",
       "        vertical-align: top;\n",
       "    }\n",
       "\n",
       "    .dataframe thead th {\n",
       "        text-align: right;\n",
       "    }\n",
       "</style>\n",
       "<table border=\"1\" class=\"dataframe\">\n",
       "  <thead>\n",
       "    <tr style=\"text-align: right;\">\n",
       "      <th></th>\n",
       "      <th>Preis (€)</th>\n",
       "      <th>Vergleichspreis (€)</th>\n",
       "      <th>Grad</th>\n",
       "    </tr>\n",
       "  </thead>\n",
       "  <tbody>\n",
       "    <tr>\n",
       "      <th>count</th>\n",
       "      <td>1000.000000</td>\n",
       "      <td>1000.00000</td>\n",
       "      <td>1000.000000</td>\n",
       "    </tr>\n",
       "    <tr>\n",
       "      <th>mean</th>\n",
       "      <td>114.028660</td>\n",
       "      <td>141.33316</td>\n",
       "      <td>284.245000</td>\n",
       "    </tr>\n",
       "    <tr>\n",
       "      <th>std</th>\n",
       "      <td>263.350352</td>\n",
       "      <td>327.30766</td>\n",
       "      <td>233.992828</td>\n",
       "    </tr>\n",
       "    <tr>\n",
       "      <th>min</th>\n",
       "      <td>0.000000</td>\n",
       "      <td>0.00000</td>\n",
       "      <td>101.000000</td>\n",
       "    </tr>\n",
       "    <tr>\n",
       "      <th>25%</th>\n",
       "      <td>0.000000</td>\n",
       "      <td>0.00000</td>\n",
       "      <td>163.750000</td>\n",
       "    </tr>\n",
       "    <tr>\n",
       "      <th>50%</th>\n",
       "      <td>18.050000</td>\n",
       "      <td>26.98500</td>\n",
       "      <td>218.500000</td>\n",
       "    </tr>\n",
       "    <tr>\n",
       "      <th>75%</th>\n",
       "      <td>84.220000</td>\n",
       "      <td>109.21000</td>\n",
       "      <td>317.000000</td>\n",
       "    </tr>\n",
       "    <tr>\n",
       "      <th>max</th>\n",
       "      <td>2365.430000</td>\n",
       "      <td>3199.00000</td>\n",
       "      <td>2745.000000</td>\n",
       "    </tr>\n",
       "  </tbody>\n",
       "</table>\n",
       "</div>"
      ]
     },
     "execution_count": 9,
     "metadata": {},
     "output_type": "execute_result"
    }
   ],
   "execution_count": 9
  },
  {
   "metadata": {},
   "cell_type": "markdown",
   "source": "Some additional statistical overview of our scraped dataset with pandas.",
   "id": "7283276302d12efe"
  }
 ],
 "metadata": {
  "kernelspec": {
   "display_name": "Python 3 (ipykernel)",
   "language": "python",
   "name": "python3"
  },
  "language_info": {
   "codemirror_mode": {
    "name": "ipython",
    "version": 3
   },
   "file_extension": ".py",
   "mimetype": "text/x-python",
   "name": "python",
   "nbconvert_exporter": "python",
   "pygments_lexer": "ipython3",
   "version": "3.11.6"
  }
 },
 "nbformat": 4,
 "nbformat_minor": 5
}
