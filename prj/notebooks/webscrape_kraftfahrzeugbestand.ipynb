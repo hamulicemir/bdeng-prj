{
 "cells": [
  {
   "cell_type": "code",
   "id": "initial_id",
   "metadata": {
    "collapsed": true,
    "ExecuteTime": {
     "end_time": "2025-06-19T20:09:57.447139Z",
     "start_time": "2025-06-19T20:09:57.438580Z"
    }
   },
   "source": [
    "import requests\n",
    "from bs4 import BeautifulSoup\n",
    "import pandas as pd"
   ],
   "outputs": [],
   "execution_count": 17
  },
  {
   "metadata": {
    "ExecuteTime": {
     "end_time": "2025-06-19T20:09:57.655095Z",
     "start_time": "2025-06-19T20:09:57.452564Z"
    }
   },
   "cell_type": "code",
   "source": [
    "url = \"https://www.wien.gv.at/statistik/verkehr-wohnen/tabellen/kfz-bestand-bez.html\"\n",
    "resp = requests.get(url)\n",
    "resp.raise_for_status()  # Fehlermeldung, falls die Seite nicht erreichbar ist"
   ],
   "id": "c11a3d705ddf92c7",
   "outputs": [],
   "execution_count": 18
  },
  {
   "metadata": {
    "ExecuteTime": {
     "end_time": "2025-06-19T20:09:57.707278Z",
     "start_time": "2025-06-19T20:09:57.693815Z"
    }
   },
   "cell_type": "code",
   "source": [
    "soup = BeautifulSoup(resp.content, \"html.parser\")\n",
    "table = soup.find(\"table\", class_=\"BDE-table-frame\")"
   ],
   "id": "ba7e00d7751c056a",
   "outputs": [],
   "execution_count": 19
  },
  {
   "metadata": {
    "ExecuteTime": {
     "end_time": "2025-06-19T20:09:57.726770Z",
     "start_time": "2025-06-19T20:09:57.724432Z"
    }
   },
   "cell_type": "code",
   "source": "rows = table.find_all(\"tr\")[2:]",
   "id": "67d6ba514326cc71",
   "outputs": [],
   "execution_count": 20
  },
  {
   "metadata": {
    "ExecuteTime": {
     "end_time": "2025-06-19T20:09:57.746068Z",
     "start_time": "2025-06-19T20:09:57.742724Z"
    }
   },
   "cell_type": "code",
   "source": [
    "data = []\n",
    "for tr in rows:\n",
    "    cells = tr.find_all(\"td\")\n",
    "    if len(cells) != 8:\n",
    "        continue\n",
    "    row = []\n",
    "    for td in cells:\n",
    "        txt = td.get_text(strip=True)\n",
    "        # Tausender-Punkte entfernen\n",
    "        txt = txt.replace(\".\", \"\")\n",
    "        # Gedankenstriche/Leereinträge → 0\n",
    "        if txt in (\"–\", \"-\", \"\"):\n",
    "            txt = \"0\"\n",
    "        row.append(txt)\n",
    "    data.append(row)"
   ],
   "id": "f26964efa41edcb1",
   "outputs": [],
   "execution_count": 21
  },
  {
   "metadata": {
    "ExecuteTime": {
     "end_time": "2025-06-19T20:09:57.763846Z",
     "start_time": "2025-06-19T20:09:57.761024Z"
    }
   },
   "cell_type": "code",
   "source": [
    "cols = [\n",
    "    \"Bezirk\",\n",
    "    \"Insgesamt\",\n",
    "    \"PKW\",\n",
    "    \"Omnibusse\",\n",
    "    \"Lkw\",\n",
    "    \"Zugmaschinen\",\n",
    "    \"sonstige Kraftfahrzeuge\",\n",
    "    \"Krafträder\",\n",
    "]\n",
    "df = pd.DataFrame(data, columns=cols)"
   ],
   "id": "67a1593b42723252",
   "outputs": [],
   "execution_count": 22
  },
  {
   "metadata": {
    "ExecuteTime": {
     "end_time": "2025-06-19T20:09:57.785130Z",
     "start_time": "2025-06-19T20:09:57.780080Z"
    }
   },
   "cell_type": "code",
   "source": [
    "for col in cols[1:]:\n",
    "    # unsichere Strings zu NaN, dann NaN → 0, schließlich int\n",
    "    df[col] = pd.to_numeric(df[col], errors=\"coerce\").fillna(0).astype(int)"
   ],
   "id": "e918173048bdca2b",
   "outputs": [],
   "execution_count": 23
  },
  {
   "metadata": {
    "ExecuteTime": {
     "end_time": "2025-06-19T20:09:57.811309Z",
     "start_time": "2025-06-19T20:09:57.800610Z"
    }
   },
   "cell_type": "code",
   "source": [
    "print(df.info())\n",
    "print(df.head(5))"
   ],
   "id": "e9e155d899725067",
   "outputs": [
    {
     "name": "stdout",
     "output_type": "stream",
     "text": [
      "<class 'pandas.core.frame.DataFrame'>\n",
      "RangeIndex: 27 entries, 0 to 26\n",
      "Data columns (total 8 columns):\n",
      " #   Column                   Non-Null Count  Dtype \n",
      "---  ------                   --------------  ----- \n",
      " 0   Bezirk                   27 non-null     object\n",
      " 1   Insgesamt                27 non-null     int64 \n",
      " 2   PKW                      27 non-null     int64 \n",
      " 3   Omnibusse                27 non-null     int64 \n",
      " 4   Lkw                      27 non-null     int64 \n",
      " 5   Zugmaschinen             27 non-null     int64 \n",
      " 6   sonstige Kraftfahrzeuge  27 non-null     int64 \n",
      " 7   Krafträder               27 non-null     int64 \n",
      "dtypes: int64(7), object(1)\n",
      "memory usage: 1.8+ KB\n",
      "None\n",
      "           Bezirk  Insgesamt     PKW  Omnibusse    Lkw  Zugmaschinen  \\\n",
      "0            Wien     924460  730947       4250  79340          4298   \n",
      "1  1 Innere Stadt      19431   16160         22   1524            82   \n",
      "2  2 Leopoldstadt      42711   34545          9   3453           136   \n",
      "3    3 Landstraße      46487   36145        486   4614           256   \n",
      "4        4 Wieden      14242   11622          3    996            51   \n",
      "\n",
      "   sonstige Kraftfahrzeuge  Krafträder  \n",
      "0                     6903       98722  \n",
      "1                      248        1395  \n",
      "2                      385        4183  \n",
      "3                      793        4193  \n",
      "4                      141        1429  \n"
     ]
    }
   ],
   "execution_count": 24
  }
 ],
 "metadata": {
  "kernelspec": {
   "display_name": "Python 3",
   "language": "python",
   "name": "python3"
  },
  "language_info": {
   "codemirror_mode": {
    "name": "ipython",
    "version": 2
   },
   "file_extension": ".py",
   "mimetype": "text/x-python",
   "name": "python",
   "nbconvert_exporter": "python",
   "pygments_lexer": "ipython2",
   "version": "2.7.6"
  }
 },
 "nbformat": 4,
 "nbformat_minor": 5
}
